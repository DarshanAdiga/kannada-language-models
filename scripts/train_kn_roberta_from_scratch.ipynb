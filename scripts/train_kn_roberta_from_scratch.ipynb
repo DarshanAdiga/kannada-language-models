{
 "cells": [
  {
   "cell_type": "code",
   "execution_count": 1,
   "metadata": {},
   "outputs": [],
   "source": [
    "# Train a ROBERTA from scratch"
   ]
  },
  {
   "cell_type": "code",
   "execution_count": 2,
   "metadata": {},
   "outputs": [],
   "source": [
    "import os\n",
    "import torch\n",
    "from tokenizers import ByteLevelBPETokenizer\n",
    "from tokenizers.processors import BertProcessing"
   ]
  },
  {
   "cell_type": "code",
   "execution_count": 3,
   "metadata": {},
   "outputs": [
    {
     "name": "stdout",
     "output_type": "stream",
     "text": [
      "1.7.0+cu101\n"
     ]
    },
    {
     "data": {
      "text/plain": [
       "True"
      ]
     },
     "execution_count": 3,
     "metadata": {},
     "output_type": "execute_result"
    }
   ],
   "source": [
    "print(torch.__version__)\n",
    "torch.cuda.is_available()"
   ]
  },
  {
   "cell_type": "code",
   "execution_count": 4,
   "metadata": {},
   "outputs": [],
   "source": [
    "base_dir = '../'\n",
    "\n",
    "model_dir = base_dir + 'model/'\n",
    "bert_model_dir = model_dir + 'cc100_kn_ROBERTA/'\n",
    "tokenizer_mdl = model_dir + 'cc100_kn_tokenizer'\n",
    "if not os.path.exists(tokenizer_mdl):\n",
    "    os.makedirs(tokenizer_mdl, exist_ok=True)\n",
    "    \n",
    "#training_file = base_dir + 'data/news-data.txt'\n",
    "# Bigger file\n",
    "training_file = base_dir + '../cc-100_dataset/kn.txt'"
   ]
  },
  {
   "cell_type": "code",
   "execution_count": 5,
   "metadata": {},
   "outputs": [],
   "source": [
    "VOCAB_SIZE = 52000\n",
    "MAX_POS_EMB = 514"
   ]
  },
  {
   "cell_type": "code",
   "execution_count": 7,
   "metadata": {},
   "outputs": [],
   "source": [
    "IS_TRAIN_TOKENIZER = True"
   ]
  },
  {
   "cell_type": "code",
   "execution_count": null,
   "metadata": {},
   "outputs": [],
   "source": [
    "# Train and save the tokenizer\n",
    "if IS_TRAIN_TOKENIZER:\n",
    "    kn_tokenizer = ByteLevelBPETokenizer()\n",
    "    print('Saving tokenizer at:', training_file)\n",
    "    kn_tokenizer.train(files=training_file, vocab_size=VOCAB_SIZE, min_frequency=2, special_tokens=[\"<s>\",\"<pad>\",\"</s>\",\"<unk>\",\"<mask>\"])\n",
    "    kn_tokenizer.save_model(tokenizer_mdl)\n",
    "else:\n",
    "    print('NOT Training the tokenizer now!')"
   ]
  },
  {
   "cell_type": "code",
   "execution_count": null,
   "metadata": {},
   "outputs": [],
   "source": []
  },
  {
   "cell_type": "code",
   "execution_count": null,
   "metadata": {},
   "outputs": [],
   "source": [
    "# Fine-tune the pre-trained BERT model using RoBERTa configurations\n",
    "from transformers import RobertaConfig, RobertaForMaskedLM\n",
    "config = RobertaConfig(vocab_size=VOCAB_SIZE,\n",
    "    max_position_embeddings=MAX_POS_EMB,\n",
    "    num_attention_heads=12,\n",
    "    num_hidden_layers=6,\n",
    "    type_vocab_size=1)\n",
    "\n",
    "# Load the model\n",
    "roberta_model = RobertaForMaskedLM(config)"
   ]
  },
  {
   "cell_type": "code",
   "execution_count": null,
   "metadata": {},
   "outputs": [],
   "source": []
  },
  {
   "cell_type": "code",
   "execution_count": null,
   "metadata": {},
   "outputs": [],
   "source": [
    "# Load the trained tokenizer\n",
    "from transformers import RobertaTokenizer\n",
    "roberta_tokenizer = RobertaTokenizer.from_pretrained(tokenizer_mdl)"
   ]
  },
  {
   "cell_type": "code",
   "execution_count": null,
   "metadata": {},
   "outputs": [],
   "source": [
    "# Dataset loaders\n",
    "from transformers import DataCollatorForLanguageModeling\n",
    "from transformers import LineByLineTextDataset\n",
    "\n",
    "dataset = LineByLineTextDataset(tokenizer=roberta_tokenizer, file_path=training_file, block_size=128)\n",
    "data_collator = DataCollatorForLanguageModeling(tokenizer=roberta_tokenizer, mlm=True, mlm_probability=0.15)"
   ]
  },
  {
   "cell_type": "code",
   "execution_count": null,
   "metadata": {},
   "outputs": [],
   "source": []
  },
  {
   "cell_type": "code",
   "execution_count": null,
   "metadata": {},
   "outputs": [],
   "source": [
    "# Start training the language model\n",
    "from transformers import Trainer, TrainingArguments\n",
    "\n",
    "EPOCH=50\n",
    "BATCH_SIZE=48 #decrease this number for out of memory issues\n",
    "\n",
    "training_args = TrainingArguments(\n",
    "    output_dir=bert_model_dir, #dir to save the model\n",
    "    overwrite_output_dir=True,\n",
    "    num_train_epochs=EPOCH,\n",
    "    per_gpu_train_batch_size=BATCH_SIZE,\n",
    "    save_steps=1000,\n",
    "    save_total_limit=2)\n",
    "\n",
    "#define trainer object with above training args\n",
    "trainer = Trainer(model=roberta_model,\n",
    "    args=training_args,\n",
    "    data_collator=data_collator,\n",
    "    train_dataset=dataset,\n",
    "    tokenizer=roberta_tokenizer,\n",
    "    prediction_loss_only=True)"
   ]
  },
  {
   "cell_type": "code",
   "execution_count": null,
   "metadata": {},
   "outputs": [],
   "source": [
    "print('Number of parameters:', roberta_model.num_parameters())"
   ]
  },
  {
   "cell_type": "code",
   "execution_count": null,
   "metadata": {
    "scrolled": true
   },
   "outputs": [],
   "source": [
    "# save the model summary\n",
    "from torch.utils.tensorboard import SummaryWriter\n",
    "# default `log_dir` is \"runs\" - we'll be more specific here\n",
    "writer = SummaryWriter('runs/model_summary')\n",
    "\n",
    "#To create the tensor on GPU\n",
    "cuda0 = torch.device('cuda')\n",
    "\n",
    "# Sample input\n",
    "tok_in = roberta_tokenizer.encode([\"ತೆರೆ ಮೇಲೆ ಯಜಮಾನನ <mask>\"])\n",
    "in_tensor = torch.tensor([tok_in], dtype=torch.long, device=cuda0)\n",
    "\n",
    "# Add the graph\n",
    "writer.add_graph(roberta_model, in_tensor)\n",
    "writer.close()"
   ]
  },
  {
   "cell_type": "code",
   "execution_count": null,
   "metadata": {
    "scrolled": false
   },
   "outputs": [],
   "source": [
    "#Train and save the model \n",
    "trainer.train()\n",
    "trainer.save_model(bert_model_dir)"
   ]
  },
  {
   "cell_type": "code",
   "execution_count": null,
   "metadata": {},
   "outputs": [],
   "source": []
  }
 ],
 "metadata": {
  "kernelspec": {
   "display_name": "TORCH_VENV",
   "language": "python",
   "name": "torch_venv"
  },
  "language_info": {
   "codemirror_mode": {
    "name": "ipython",
    "version": 3
   },
   "file_extension": ".py",
   "mimetype": "text/x-python",
   "name": "python",
   "nbconvert_exporter": "python",
   "pygments_lexer": "ipython3",
   "version": "3.6.8"
  }
 },
 "nbformat": 4,
 "nbformat_minor": 2
}
