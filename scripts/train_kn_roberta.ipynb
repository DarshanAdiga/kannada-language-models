{
 "cells": [
  {
   "cell_type": "code",
   "execution_count": 1,
   "metadata": {},
   "outputs": [],
   "source": [
    "# Reference: https://medium.com/analytics-vidhya/byolm-32d728efbf21"
   ]
  },
  {
   "cell_type": "code",
   "execution_count": 2,
   "metadata": {},
   "outputs": [],
   "source": [
    "import os\n",
    "import torch\n",
    "from tokenizers import ByteLevelBPETokenizer\n",
    "from tokenizers.processors import BertProcessing"
   ]
  },
  {
   "cell_type": "code",
   "execution_count": 3,
   "metadata": {},
   "outputs": [
    {
     "name": "stdout",
     "output_type": "stream",
     "text": [
      "1.7.0+cu101\n"
     ]
    },
    {
     "data": {
      "text/plain": [
       "True"
      ]
     },
     "execution_count": 3,
     "metadata": {},
     "output_type": "execute_result"
    }
   ],
   "source": [
    "print(torch.__version__)\n",
    "torch.cuda.is_available()"
   ]
  },
  {
   "cell_type": "code",
   "execution_count": 4,
   "metadata": {},
   "outputs": [],
   "source": [
    "base_dir = '../'\n",
    "\n",
    "model_dir = base_dir + 'model/'\n",
    "bert_model_dir = model_dir + 'newsBERT/'\n",
    "tokenizer_mdl = model_dir + 'kn_tokenizer'\n",
    "if not os.path.exists(tokenizer_mdl):\n",
    "    os.makedirs(tokenizer_mdl, exist_ok=True)\n",
    "    \n",
    "training_file = base_dir + 'data/news-data.txt'"
   ]
  },
  {
   "cell_type": "code",
   "execution_count": 5,
   "metadata": {},
   "outputs": [],
   "source": [
    "VOCAB_SIZE = 52000\n",
    "MAX_POS_EMB = 514"
   ]
  },
  {
   "cell_type": "code",
   "execution_count": 6,
   "metadata": {},
   "outputs": [
    {
     "name": "stdout",
     "output_type": "stream",
     "text": [
      "Saving tokenizer at: ../data/news-data.txt\n"
     ]
    },
    {
     "data": {
      "text/plain": [
       "['../model/kn_tokenizer/vocab.json', '../model/kn_tokenizer/merges.txt']"
      ]
     },
     "execution_count": 6,
     "metadata": {},
     "output_type": "execute_result"
    }
   ],
   "source": [
    "# Train and save the tokenizer\n",
    "kn_tokenizer = ByteLevelBPETokenizer()\n",
    "print('Saving tokenizer at:', training_file)\n",
    "kn_tokenizer.train(files=training_file, vocab_size=VOCAB_SIZE, min_frequency=2, special_tokens=[\"<s>\",\"<pad>\",\"</s>\",\"<unk>\",\"<mask>\"])\n",
    "kn_tokenizer.save_model(tokenizer_mdl)"
   ]
  },
  {
   "cell_type": "code",
   "execution_count": null,
   "metadata": {},
   "outputs": [],
   "source": []
  },
  {
   "cell_type": "code",
   "execution_count": 7,
   "metadata": {},
   "outputs": [],
   "source": [
    "# Fine-tune the pre-trained BERT model using RoBERTa configurations\n",
    "from transformers import RobertaConfig, RobertaForMaskedLM\n",
    "config = RobertaConfig(vocab_size=VOCAB_SIZE,\n",
    "    max_position_embeddings=MAX_POS_EMB,\n",
    "    num_attention_heads=12,\n",
    "    num_hidden_layers=6,\n",
    "    type_vocab_size=1)\n",
    "\n",
    "# Load the model\n",
    "roberta_model = RobertaForMaskedLM(config)"
   ]
  },
  {
   "cell_type": "code",
   "execution_count": null,
   "metadata": {},
   "outputs": [],
   "source": []
  },
  {
   "cell_type": "code",
   "execution_count": 8,
   "metadata": {},
   "outputs": [],
   "source": [
    "# # Initialize the tokenizer\n",
    "# from tokenizers import ByteLevelBPETokenizer\n",
    "# kn_tokenizer = ByteLevelBPETokenizer(tokenizer_mdl + \"/vocab.json\", tokenizer_mdl + \"/merges.txt\")\n",
    "# kn_tokenizer._tokenizer.post_processor = BertProcessing(\n",
    "#     (\"</s>\", kn_tokenizer.token_to_id(\"</s>\")),\n",
    "#     (\"<s>\", kn_tokenizer.token_to_id(\"<s>\")),\n",
    "# )\n",
    "# kn_tokenizer.enable_truncation(max_length=MAX_POS_EMB)\n",
    "# kn_tokenizer.enable_padding()\n",
    "\n",
    "# kn_tokenizer._pad_token = '<PAD>'\n",
    "# kn_tokenizer.mask_token = '<mask>'"
   ]
  },
  {
   "cell_type": "code",
   "execution_count": 9,
   "metadata": {},
   "outputs": [],
   "source": [
    "# Load the trained tokenizer\n",
    "from transformers import RobertaTokenizer\n",
    "roberta_tokenizer = RobertaTokenizer(tokenizer_mdl + \"/vocab.json\", tokenizer_mdl + \"/merges.txt\")"
   ]
  },
  {
   "cell_type": "code",
   "execution_count": 10,
   "metadata": {},
   "outputs": [],
   "source": [
    "# # Define a custom dataset loader\n",
    "# from torch.utils.data import Dataset\n",
    "# class CustomDataset(Dataset):\n",
    "#     def __init__(self, tokenizer, data_file_paths, block_size=512):\n",
    "#         self.tokenizer = tokenizer\n",
    "#         # Load the data\n",
    "#         self.sentences = []\n",
    "#         for data_file in data_file_paths:\n",
    "#             with open(data_file, encoding=\"utf-8\") as f:\n",
    "#                 self.sentences += [line for line in f.read().splitlines() if (len(line) > 0 and not line.isspace())]\n",
    "#         self.sentences = tokenizer.encode_batch(self.sentences)\n",
    "            \n",
    "#     def __len__(self):\n",
    "#         return len(self.sentences)\n",
    "\n",
    "#     def __getitem__(self, i):\n",
    "#         # Return the tokenized sentence as tensor\n",
    "#         return torch.tensor(self.sentences[i].ids, dtype=torch.long)\n",
    "    \n",
    "#dataset = CustomDataset(roberta_tokenizer, data_file_paths=[training_file])"
   ]
  },
  {
   "cell_type": "code",
   "execution_count": 11,
   "metadata": {},
   "outputs": [],
   "source": [
    "# Dataset loaders\n",
    "from transformers import DataCollatorForLanguageModeling\n",
    "from transformers import LineByLineTextDataset\n",
    "\n",
    "dataset = LineByLineTextDataset(tokenizer=roberta_tokenizer, file_path=training_file, block_size=128)\n",
    "data_collator = DataCollatorForLanguageModeling(tokenizer=roberta_tokenizer, mlm=True, mlm_probability=0.15)"
   ]
  },
  {
   "cell_type": "code",
   "execution_count": null,
   "metadata": {},
   "outputs": [],
   "source": []
  },
  {
   "cell_type": "code",
   "execution_count": 12,
   "metadata": {},
   "outputs": [
    {
     "name": "stderr",
     "output_type": "stream",
     "text": [
      "/home/jupyter-admin/TORCH_VENV/lib/python3.6/site-packages/transformers/trainer.py:263: FutureWarning: Passing `prediction_loss_only` as a keyword argument is deprecated and won't be possible in a future version. Use `args.prediction_loss_only` instead. Setting `args.prediction_loss_only=True\n",
      "  FutureWarning,\n"
     ]
    }
   ],
   "source": [
    "# Start training the language model\n",
    "from transformers import Trainer, TrainingArguments\n",
    "\n",
    "EPOCH=200\n",
    "BATCH_SIZE=48 #decrease this number for out of memory issues\n",
    "\n",
    "training_args = TrainingArguments(\n",
    "    output_dir=bert_model_dir, #dir to save the model\n",
    "    overwrite_output_dir=True,\n",
    "    num_train_epochs=EPOCH,\n",
    "    per_gpu_train_batch_size=BATCH_SIZE,\n",
    "    save_steps=1000,\n",
    "    save_total_limit=2)\n",
    "\n",
    "#define trainer object with above training args\n",
    "trainer = Trainer(model=roberta_model,\n",
    "    args=training_args,\n",
    "    data_collator=data_collator,\n",
    "    train_dataset=dataset,\n",
    "    tokenizer=roberta_tokenizer,\n",
    "    prediction_loss_only=True)"
   ]
  },
  {
   "cell_type": "code",
   "execution_count": 16,
   "metadata": {},
   "outputs": [
    {
     "data": {
      "text/plain": [
       "'GeForce RTX 2080 Ti'"
      ]
     },
     "execution_count": 16,
     "metadata": {},
     "output_type": "execute_result"
    }
   ],
   "source": [
    "torch.cuda.get_device_name(0)"
   ]
  },
  {
   "cell_type": "code",
   "execution_count": 18,
   "metadata": {
    "scrolled": true
   },
   "outputs": [],
   "source": [
    "# save the model summary\n",
    "from torch.utils.tensorboard import SummaryWriter\n",
    "# default `log_dir` is \"runs\" - we'll be more specific here\n",
    "writer = SummaryWriter('runs/model_summary')\n",
    "\n",
    "#To create the tensor on GPU\n",
    "cuda0 = torch.device('cuda')\n",
    "\n",
    "# Sample input\n",
    "tok_in = roberta_tokenizer.encode([\"ತೆರೆಯಮೇಲೆ ಯಜನಮಾನನ <mask>\"])\n",
    "in_tensor = torch.tensor([tok_in], dtype=torch.long, device=cuda0)\n",
    "\n",
    "# Add the graph\n",
    "writer.add_graph(roberta_model, in_tensor)\n",
    "writer.close()"
   ]
  },
  {
   "cell_type": "code",
   "execution_count": null,
   "metadata": {
    "scrolled": false
   },
   "outputs": [
    {
     "name": "stderr",
     "output_type": "stream",
     "text": [
      "Using deprecated `--per_gpu_train_batch_size` argument which will be removed in a future version. Using `--per_device_train_batch_size` is preferred.\n",
      "Using deprecated `--per_gpu_train_batch_size` argument which will be removed in a future version. Using `--per_device_train_batch_size` is preferred.\n",
      "Using deprecated `--per_gpu_train_batch_size` argument which will be removed in a future version. Using `--per_device_train_batch_size` is preferred.\n"
     ]
    },
    {
     "data": {
      "text/html": [
       "\n",
       "    <div>\n",
       "        <style>\n",
       "            /* Turns off some styling */\n",
       "            progress {\n",
       "                /* gets rid of default border in Firefox and Opera. */\n",
       "                border: none;\n",
       "                /* Needs to be in here for Safari polyfill so background images work as expected. */\n",
       "                background-size: auto;\n",
       "            }\n",
       "        </style>\n",
       "      \n",
       "      <progress value='3010' max='27000' style='width:300px; height:20px; vertical-align: middle;'></progress>\n",
       "      [ 3010/27000 12:56 < 1:43:14, 3.87 it/s, Epoch 22.29/200]\n",
       "    </div>\n",
       "    <table border=\"1\" class=\"dataframe\">\n",
       "  <thead>\n",
       "    <tr style=\"text-align: left;\">\n",
       "      <th>Step</th>\n",
       "      <th>Training Loss</th>\n",
       "    </tr>\n",
       "  </thead>\n",
       "  <tbody>\n",
       "    <tr>\n",
       "      <td>500</td>\n",
       "      <td>4.764899</td>\n",
       "    </tr>\n",
       "    <tr>\n",
       "      <td>1000</td>\n",
       "      <td>3.747816</td>\n",
       "    </tr>\n",
       "    <tr>\n",
       "      <td>1500</td>\n",
       "      <td>3.455454</td>\n",
       "    </tr>\n",
       "    <tr>\n",
       "      <td>2000</td>\n",
       "      <td>3.165751</td>\n",
       "    </tr>\n",
       "    <tr>\n",
       "      <td>2500</td>\n",
       "      <td>2.843078</td>\n",
       "    </tr>\n",
       "    <tr>\n",
       "      <td>3000</td>\n",
       "      <td>2.590426</td>\n",
       "    </tr>\n",
       "  </tbody>\n",
       "</table><p>"
      ],
      "text/plain": [
       "<IPython.core.display.HTML object>"
      ]
     },
     "metadata": {},
     "output_type": "display_data"
    }
   ],
   "source": [
    "#Train and save the model \n",
    "trainer.train()\n",
    "trainer.save_model(bert_model_dir)"
   ]
  },
  {
   "cell_type": "code",
   "execution_count": null,
   "metadata": {},
   "outputs": [],
   "source": [
    "for parameter in roberta_model.parameters():\n",
    "    print(parameter)"
   ]
  },
  {
   "cell_type": "code",
   "execution_count": null,
   "metadata": {},
   "outputs": [],
   "source": []
  }
 ],
 "metadata": {
  "kernelspec": {
   "display_name": "TORCH_VENV",
   "language": "python",
   "name": "torch_venv"
  },
  "language_info": {
   "codemirror_mode": {
    "name": "ipython",
    "version": 3
   },
   "file_extension": ".py",
   "mimetype": "text/x-python",
   "name": "python",
   "nbconvert_exporter": "python",
   "pygments_lexer": "ipython3",
   "version": "3.6.8"
  }
 },
 "nbformat": 4,
 "nbformat_minor": 2
}
