{
 "cells": [
  {
   "cell_type": "code",
   "execution_count": 2,
   "metadata": {},
   "outputs": [],
   "source": [
    "from transformers import pipeline"
   ]
  },
  {
   "cell_type": "code",
   "execution_count": 12,
   "metadata": {},
   "outputs": [],
   "source": [
    "base_dir = '../'\n",
    "\n",
    "model_dir = base_dir + 'model/'\n",
    "bert_model_dir = model_dir + 'cc100_kn_ROBERTA/checkpoint-1358000/'\n",
    "tokenizer_mdl = model_dir + 'cc100_kn_tokenizer'"
   ]
  },
  {
   "cell_type": "code",
   "execution_count": 13,
   "metadata": {},
   "outputs": [],
   "source": [
    "# Load the trained tokenizer\n",
    "from transformers import RobertaTokenizer\n",
    "roberta_tokenizer = RobertaTokenizer.from_pretrained(tokenizer_mdl)"
   ]
  },
  {
   "cell_type": "code",
   "execution_count": null,
   "metadata": {},
   "outputs": [],
   "source": []
  },
  {
   "cell_type": "code",
   "execution_count": 14,
   "metadata": {
    "scrolled": true
   },
   "outputs": [
    {
     "name": "stdout",
     "output_type": "stream",
     "text": [
      "Number of parameters: 83504416\n"
     ]
    }
   ],
   "source": [
    "from transformers import RobertaForMaskedLM\n",
    "roberta_model = RobertaForMaskedLM.from_pretrained(bert_model_dir)\n",
    "print('Number of parameters:', roberta_model.num_parameters())"
   ]
  },
  {
   "cell_type": "code",
   "execution_count": null,
   "metadata": {},
   "outputs": [],
   "source": []
  },
  {
   "cell_type": "code",
   "execution_count": 15,
   "metadata": {
    "scrolled": true
   },
   "outputs": [],
   "source": [
    "# Create a pipeline for fill-mask task\n",
    "fill_mask_pipeline = pipeline(\"fill-mask\", model=roberta_model, tokenizer=roberta_tokenizer)"
   ]
  },
  {
   "cell_type": "code",
   "execution_count": 23,
   "metadata": {},
   "outputs": [
    {
     "data": {
      "text/plain": [
       "[{'sequence': '<s>ಕನ್ನಡಿಗರು ಬಹಳ ಜನ.</s>',\n",
       "  'score': 0.6848875284194946,\n",
       "  'token': 411,\n",
       "  'token_str': 'Ġà²ľà²¨'},\n",
       " {'sequence': '<s>ಕನ್ನಡಿಗರು ಬಹಳ ಸರಳ.</s>',\n",
       "  'score': 0.09783684462308884,\n",
       "  'token': 1601,\n",
       "  'token_str': 'Ġà²¸à²°à²³'},\n",
       " {'sequence': '<s>ಕನ್ನಡಿಗರು ಬಹಳ ಬಹಳ.</s>',\n",
       "  'score': 0.03465666249394417,\n",
       "  'token': 878,\n",
       "  'token_str': 'Ġà²¬à²¹à²³'},\n",
       " {'sequence': '<s>ಕನ್ನಡಿಗರು ಬಹಳ ಬಡವರ.</s>',\n",
       "  'score': 0.02227773703634739,\n",
       "  'token': 2218,\n",
       "  'token_str': 'Ġà²¬à²¡à²µà²°'},\n",
       " {'sequence': '<s>ಕನ್ನಡಿಗರು ಬಹಳ ಇವರ.</s>',\n",
       "  'score': 0.01738768443465233,\n",
       "  'token': 663,\n",
       "  'token_str': 'Ġà²ĩà²µà²°'}]"
      ]
     },
     "execution_count": 23,
     "metadata": {},
     "output_type": "execute_result"
    }
   ],
   "source": [
    "fill_mask_pipeline(\"ಕನ್ನಡಿಗರು ಬಹಳ <mask>.\")"
   ]
  },
  {
   "cell_type": "code",
   "execution_count": null,
   "metadata": {},
   "outputs": [],
   "source": []
  }
 ],
 "metadata": {
  "kernelspec": {
   "display_name": "TORCH_VENV",
   "language": "python",
   "name": "torch_venv"
  },
  "language_info": {
   "codemirror_mode": {
    "name": "ipython",
    "version": 3
   },
   "file_extension": ".py",
   "mimetype": "text/x-python",
   "name": "python",
   "nbconvert_exporter": "python",
   "pygments_lexer": "ipython3",
   "version": "3.6.8"
  }
 },
 "nbformat": 4,
 "nbformat_minor": 2
}
