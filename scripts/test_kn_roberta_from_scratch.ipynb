{
 "cells": [
  {
   "cell_type": "code",
   "execution_count": 1,
   "metadata": {},
   "outputs": [],
   "source": [
    "from transformers import pipeline"
   ]
  },
  {
   "cell_type": "code",
   "execution_count": 2,
   "metadata": {},
   "outputs": [],
   "source": [
    "base_dir = '../'\n",
    "\n",
    "model_dir = base_dir + 'model/'\n",
    "bert_model_dir = model_dir + 'newsBERT/'\n",
    "tokenizer_mdl = model_dir + 'kn_tokenizer'"
   ]
  },
  {
   "cell_type": "code",
   "execution_count": 3,
   "metadata": {},
   "outputs": [],
   "source": [
    "# Load the trained tokenizer\n",
    "from transformers import RobertaTokenizer\n",
    "roberta_tokenizer = RobertaTokenizer.from_pretrained(tokenizer_mdl)"
   ]
  },
  {
   "cell_type": "code",
   "execution_count": 4,
   "metadata": {},
   "outputs": [
    {
     "name": "stdout",
     "output_type": "stream",
     "text": [
      "Number of parameters: 83504416\n"
     ]
    }
   ],
   "source": [
    "from transformers import RobertaForMaskedLM\n",
    "roberta_model = RobertaForMaskedLM.from_pretrained(bert_model_dir)\n",
    "print('Number of parameters:', roberta_model.num_parameters())"
   ]
  },
  {
   "cell_type": "code",
   "execution_count": null,
   "metadata": {},
   "outputs": [],
   "source": []
  },
  {
   "cell_type": "code",
   "execution_count": 5,
   "metadata": {
    "scrolled": true
   },
   "outputs": [],
   "source": [
    "# Create a pipeline for fill-mask task\n",
    "fill_mask_pipeline = pipeline(\"fill-mask\", model=roberta_model, tokenizer=roberta_tokenizer)"
   ]
  },
  {
   "cell_type": "code",
   "execution_count": 7,
   "metadata": {},
   "outputs": [
    {
     "data": {
      "text/plain": [
       "[{'sequence': '<s>ತೆರೆ ಮೇಲೆ ಯಜಮಾನನ ಎ.</s>',\n",
       "  'score': 0.07714106142520905,\n",
       "  'token': 336,\n",
       "  'token_str': 'Ġà²İ'},\n",
       " {'sequence': '<s>ತೆರೆ ಮೇಲೆ ಯಜಮಾನನ/.</s>',\n",
       "  'score': 0.05251598730683327,\n",
       "  'token': 19,\n",
       "  'token_str': '/'},\n",
       " {'sequence': '<s>ತೆರೆ ಮೇಲೆ ಯಜಮಾನನ ನ.</s>',\n",
       "  'score': 0.047233179211616516,\n",
       "  'token': 297,\n",
       "  'token_str': 'Ġà²¨'},\n",
       " {'sequence': '<s>ತೆರೆ ಮೇಲೆ ಯಜಮಾನನ ಗರ.</s>',\n",
       "  'score': 0.041358936578035355,\n",
       "  'token': 754,\n",
       "  'token_str': 'Ġà²Ĺà²°'},\n",
       " {'sequence': '<s>ತೆರೆ ಮೇಲೆ ಯಜಮಾನನಎ.</s>',\n",
       "  'score': 0.02633838541805744,\n",
       "  'token': 338,\n",
       "  'token_str': 'à²İ'}]"
      ]
     },
     "execution_count": 7,
     "metadata": {},
     "output_type": "execute_result"
    }
   ],
   "source": [
    "fill_mask_pipeline(\"ತೆರೆ ಮೇಲೆ ಯಜಮಾನನ <mask>.\")"
   ]
  },
  {
   "cell_type": "code",
   "execution_count": null,
   "metadata": {},
   "outputs": [],
   "source": []
  }
 ],
 "metadata": {
  "kernelspec": {
   "display_name": "TORCH_VENV",
   "language": "python",
   "name": "torch_venv"
  },
  "language_info": {
   "codemirror_mode": {
    "name": "ipython",
    "version": 3
   },
   "file_extension": ".py",
   "mimetype": "text/x-python",
   "name": "python",
   "nbconvert_exporter": "python",
   "pygments_lexer": "ipython3",
   "version": "3.6.8"
  }
 },
 "nbformat": 4,
 "nbformat_minor": 2
}
