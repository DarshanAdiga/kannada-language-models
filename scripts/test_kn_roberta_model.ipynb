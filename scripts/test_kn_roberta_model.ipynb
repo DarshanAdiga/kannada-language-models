{
 "cells": [
  {
   "cell_type": "code",
   "execution_count": 1,
   "metadata": {},
   "outputs": [],
   "source": [
    "from transformers import pipeline"
   ]
  },
  {
   "cell_type": "code",
   "execution_count": 5,
   "metadata": {},
   "outputs": [],
   "source": [
    "base_dir = '../'\n",
    "\n",
    "model_dir = base_dir + 'model/'\n",
    "bert_model_dir = model_dir + 'cc100_kn_ROBERTA_pt/checkpoint-610000/'\n",
    "tokenizer_mdl = model_dir + 'cc100_kn_tokenizer_pt'"
   ]
  },
  {
   "cell_type": "code",
   "execution_count": 6,
   "metadata": {},
   "outputs": [],
   "source": [
    "# Load the trained tokenizer\n",
    "from transformers import RobertaTokenizer\n",
    "roberta_tokenizer = RobertaTokenizer.from_pretrained(tokenizer_mdl)"
   ]
  },
  {
   "cell_type": "code",
   "execution_count": null,
   "metadata": {},
   "outputs": [],
   "source": []
  },
  {
   "cell_type": "code",
   "execution_count": 7,
   "metadata": {
    "scrolled": true
   },
   "outputs": [
    {
     "name": "stdout",
     "output_type": "stream",
     "text": [
      "Number of parameters: 82170201\n"
     ]
    }
   ],
   "source": [
    "from transformers import RobertaForMaskedLM\n",
    "roberta_model = RobertaForMaskedLM.from_pretrained(bert_model_dir)\n",
    "print('Number of parameters:', roberta_model.num_parameters())"
   ]
  },
  {
   "cell_type": "code",
   "execution_count": null,
   "metadata": {},
   "outputs": [],
   "source": []
  },
  {
   "cell_type": "code",
   "execution_count": 8,
   "metadata": {
    "scrolled": true
   },
   "outputs": [],
   "source": [
    "# Create a pipeline for fill-mask task\n",
    "fill_mask_pipeline = pipeline(\"fill-mask\", model=roberta_model, tokenizer=roberta_tokenizer)"
   ]
  },
  {
   "cell_type": "code",
   "execution_count": 9,
   "metadata": {},
   "outputs": [
    {
     "data": {
      "text/plain": [
       "[{'sequence': '<s>ಕುಡಿಯುವ ನೀರಿನ ಘಟಕ ಘಟಕ.</s>',\n",
       "  'score': 0.5331053733825684,\n",
       "  'token': 1221,\n",
       "  'token_str': 'Ġà²ĺà²Łà²ķ'},\n",
       " {'sequence': '<s>ಕುಡಿಯುವ ನೀರಿನ ಘಟಕ ವಲಯ.</s>',\n",
       "  'score': 0.05451444536447525,\n",
       "  'token': 2284,\n",
       "  'token_str': 'Ġà²µà²²à²¯'},\n",
       " {'sequence': '<s>ಕುಡಿಯುವ ನೀರಿನ ಘಟಕ ಆಟ.</s>',\n",
       "  'score': 0.049538999795913696,\n",
       "  'token': 728,\n",
       "  'token_str': 'Ġà²Ĩà²Ł'},\n",
       " {'sequence': '<s>ಕುಡಿಯುವ ನೀರಿನ ಘಟಕ ನಗರ.</s>',\n",
       "  'score': 0.027928819879889488,\n",
       "  'token': 698,\n",
       "  'token_str': 'Ġà²¨à²Ĺà²°'},\n",
       " {'sequence': '<s>ಕುಡಿಯುವ ನೀರಿನ ಘಟಕ ಔಷಧ.</s>',\n",
       "  'score': 0.020725395530462265,\n",
       "  'token': 1617,\n",
       "  'token_str': 'Ġà²Ķà²·à²§'}]"
      ]
     },
     "execution_count": 9,
     "metadata": {},
     "output_type": "execute_result"
    }
   ],
   "source": [
    "fill_mask_pipeline(\"ಕುಡಿಯುವ ನೀರಿನ ಘಟಕ <mask>.\")"
   ]
  },
  {
   "cell_type": "code",
   "execution_count": null,
   "metadata": {},
   "outputs": [],
   "source": []
  }
 ],
 "metadata": {
  "kernelspec": {
   "display_name": "TORCH_VENV",
   "language": "python",
   "name": "torch_venv"
  },
  "language_info": {
   "codemirror_mode": {
    "name": "ipython",
    "version": 3
   },
   "file_extension": ".py",
   "mimetype": "text/x-python",
   "name": "python",
   "nbconvert_exporter": "python",
   "pygments_lexer": "ipython3",
   "version": "3.6.8"
  }
 },
 "nbformat": 4,
 "nbformat_minor": 2
}
